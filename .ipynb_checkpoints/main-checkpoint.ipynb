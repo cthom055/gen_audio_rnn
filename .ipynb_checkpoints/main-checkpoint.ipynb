{
 "cells": [
  {
   "cell_type": "code",
   "execution_count": 1,
   "metadata": {},
   "outputs": [],
   "source": [
    "import sys\n",
    "import tensorflow as tf\n",
    "from model import build_model\n",
    "from audio_dataset_generator import AudioDatasetGenerator"
   ]
  },
  {
   "cell_type": "code",
   "execution_count": 2,
   "metadata": {
    "collapsed": true
   },
   "outputs": [],
   "source": [
    "# Settings\n",
    "audio_data_path      = \"assets\"\n",
    "learning_rate        = 0.001\n",
    "amount_epochs        = 200\n",
    "batch_size           = 64\n",
    "dropout              = 0.2\n",
    "rnn_type             = \"lstm\"\n",
    "activation           = tf.nn.relu\n",
    "optimiser            = tf.train.RMSPropOptimizer(learning_rate=learning_rate)\n",
    "fft_settings         = [2048, 1024, 512]\n",
    "fft_size             = fft_settings[0]\n",
    "window_size          = fft_settings[1]\n",
    "hop_size             = fft_settings[2]\n",
    "number_rnn_layers    = 2\n",
    "rnn_number_units     = int(fft_size / 2 + 1)\n",
    "fully_connected_dim  = int(fft_size / 2 + 1)\n",
    "sequence_length      = 16\n",
    "force_new_dataset    = False\n",
    "sample_rate          = 44100\n",
    "loss_type            = \"mse\""
   ]
  },
  {
   "cell_type": "code",
   "execution_count": 3,
   "metadata": {
    "scrolled": true
   },
   "outputs": [],
   "source": [
    "# Dataset generation / loading\n",
    "dataset = AudioDatasetGenerator(fft_size, window_size, hop_size,\n",
    "                                sequence_length, sample_rate)\n",
    "dataset.load(audio_data_path)"
   ]
  },
  {
   "cell_type": "code",
   "execution_count": null,
   "metadata": {
    "scrolled": false
   },
   "outputs": [
    {
     "name": "stderr",
     "output_type": "stream",
     "text": [
      "/usr/local/lib/python3.5/dist-packages/tensorflow/python/ops/gradients_impl.py:93: UserWarning: Converting sparse IndexedSlices to a dense Tensor of unknown shape. This may consume a large amount of memory.\n",
      "  \"Converting sparse IndexedSlices to a dense Tensor of unknown shape. \"\n"
     ]
    }
   ],
   "source": [
    "# Tensor graph\n",
    "x = tf.placeholder(tf.float32, dataset.get_x_shape())\n",
    "y = tf.placeholder(tf.float32, dataset.get_y_shape())\n",
    "training = tf.placeholder(tf.bool)\n",
    "keep_prob = tf.placeholder(tf.float32)\n",
    "\n",
    "weights = {\n",
    "    'out': tf.Variable(tf.random_normal([fully_connected_dim, fully_connected_dim]))\n",
    "}\n",
    "biases = {\n",
    "    'out': tf.Variable(tf.random_normal([fully_connected_dim]))\n",
    "}\n",
    "\n",
    "prediction = build_model(x, rnn_type, number_rnn_layers, rnn_number_units,\n",
    "                         weights, biases, dataset.get_y_shape()[1], keep_prob)\n",
    "\n",
    "if loss_type == \"mse\":\n",
    "    cost = tf.reduce_mean(tf.pow(tf.subtract(y, prediction), 2))\n",
    "elif loss_type == \"l2\":\n",
    "    cost = tf.nn.l2_loss(y, prediction)\n",
    "\n",
    "train = optimiser.minimize(cost)\n",
    "\n",
    "init = tf.global_variables_initializer()"
   ]
  },
  {
   "cell_type": "code",
   "execution_count": null,
   "metadata": {
    "scrolled": true
   },
   "outputs": [
    {
     "name": "stdout",
     "output_type": "stream",
     "text": [
      "Epoch: 93, Cost: 0.5956626534461975  \r"
     ]
    }
   ],
   "source": [
    "with tf.Session() as sess:\n",
    "    sess.run(init)\n",
    "    dataset.reset_epoch()\n",
    "    \n",
    "    while not dataset.completed_all_epochs(amount_epochs):\n",
    "\n",
    "        batch_x, batch_y = dataset.get_next_batch(batch_size)\n",
    "\n",
    "        sess.run([train], feed_dict={x: batch_x,\n",
    "                                     y: batch_y,\n",
    "                                     training: True,\n",
    "                                     keep_prob: dropout})\n",
    "\n",
    "        if dataset.is_new_epoch():\n",
    "            c = sess.run([cost], feed_dict={x: batch_x,\n",
    "                                            y: batch_y,\n",
    "                                            training: True,\n",
    "                                            keep_prob: dropout})\n",
    "\n",
    "            sys.stdout.write('Epoch: {}, Cost: {}  \\r'.format(dataset.get_epoch(), c[0]))\n",
    "            sys.stdout.flush()"
   ]
  },
  {
   "cell_type": "code",
   "execution_count": null,
   "metadata": {},
   "outputs": [],
   "source": [
    "amount_samples     = 5\n",
    "sequence_length    = 1000\n",
    "impulse_scale      = 666\n",
    "griffin_iterations = 200\n",
    "audio = dataset.generate_samples(prediction, x, training, keep_prob, amount_samples,\n",
    "                                 sequence_length, impulse_scale, griffin_iterations)"
   ]
  },
  {
   "cell_type": "code",
   "execution_count": null,
   "metadata": {},
   "outputs": [],
   "source": [
    "from IPython.display import Audio\n",
    "\n",
    "i = 0\n",
    "Audio(audio[i], rate=sample_rate)"
   ]
  },
  {
   "cell_type": "code",
   "execution_count": null,
   "metadata": {},
   "outputs": [],
   "source": [
    "import matplotlib.pyplot as plt\n",
    "%matplotlib inline\n",
    "\n",
    "plt.specgram(audio[i], NFFT=2048, Fs=44100, noverlap=512)\n",
    "\n",
    "# Plot a spectrogram\n",
    "plt.xlabel('Time (seconds)')\n",
    "plt.ylabel('Frequency')"
   ]
  },
  {
   "cell_type": "code",
   "execution_count": null,
   "metadata": {
    "collapsed": true
   },
   "outputs": [],
   "source": []
  }
 ],
 "metadata": {
  "kernelspec": {
   "display_name": "Python 3",
   "language": "python",
   "name": "python3"
  },
  "language_info": {
   "codemirror_mode": {
    "name": "ipython",
    "version": 3
   },
   "file_extension": ".py",
   "mimetype": "text/x-python",
   "name": "python",
   "nbconvert_exporter": "python",
   "pygments_lexer": "ipython3",
   "version": "3.5.2"
  }
 },
 "nbformat": 4,
 "nbformat_minor": 2
}
